{
 "cells": [
  {
   "cell_type": "code",
   "execution_count": 1,
   "id": "df0d3d34-5ba7-4bb5-8e53-077a48440940",
   "metadata": {},
   "outputs": [
    {
     "name": "stderr",
     "output_type": "stream",
     "text": [
      "/Users/blueberryshortcakes/opt/anaconda3/lib/python3.9/site-packages/bokeh/models/plots.py:815: UserWarning: \n",
      "You are attempting to set `plot.legend.label_text_font_size` on a plot that has zero legends added, this will have no effect.\n",
      "\n",
      "Before legend properties can be set, you must add a Legend explicitly, or call a glyph method with a legend parameter set.\n",
      "\n",
      "  warnings.warn(_LEGEND_EMPTY_WARNING % attr)\n",
      "/Users/blueberryshortcakes/opt/anaconda3/lib/python3.9/site-packages/bokeh/models/plots.py:815: UserWarning: \n",
      "You are attempting to set `plot.legend.location` on a plot that has zero legends added, this will have no effect.\n",
      "\n",
      "Before legend properties can be set, you must add a Legend explicitly, or call a glyph method with a legend parameter set.\n",
      "\n",
      "  warnings.warn(_LEGEND_EMPTY_WARNING % attr)\n"
     ]
    }
   ],
   "source": [
    "import pandas as pd\n",
    "import yfinance\n",
    "from bokeh.plotting import figure, output_file, show\n",
    "\n",
    "# ビットコイン価格の時系列データ\n",
    "symbol = \"BTC-JPY\"  # 通貨コード\n",
    "period = \"max\"      # 期間\n",
    "\n",
    "# データ取得\n",
    "Ticker = yfinance.Ticker(symbol)\n",
    "data   = Ticker.history(period=period)\n",
    "\n",
    "# グラフ可視化（折れ線グラフ）\n",
    "p = figure(title=\"Bitcoin Price History\", x_axis_label='Date', y_axis_label='Bitcoin Price (JPY)', plot_width=800, plot_height=400)\n",
    "p.line(data.index, data[\"Close\"], line_width=2, line_color='black')\n",
    "\n",
    "# 凡例の表示\n",
    "p.legend.label_text_font_size = \"14pt\"\n",
    "p.legend.location = \"top_left\"\n",
    "\n",
    "# グリッド線の表示\n",
    "p.grid.grid_line_alpha = 0.5\n",
    "p.grid.grid_line_dash = [6, 4]\n",
    "\n",
    "# 出力ファイル名の指定\n",
    "output_file(\"bitcoin.html\")\n",
    "\n",
    "# グラフの表示\n",
    "show(p)\n"
   ]
  },
  {
   "cell_type": "code",
   "execution_count": null,
   "id": "dc9ad914-9bc7-4d82-b408-39e58a35cb53",
   "metadata": {},
   "outputs": [],
   "source": []
  }
 ],
 "metadata": {
  "kernelspec": {
   "display_name": "Python 3 (ipykernel)",
   "language": "python",
   "name": "python3"
  },
  "language_info": {
   "codemirror_mode": {
    "name": "ipython",
    "version": 3
   },
   "file_extension": ".py",
   "mimetype": "text/x-python",
   "name": "python",
   "nbconvert_exporter": "python",
   "pygments_lexer": "ipython3",
   "version": "3.9.13"
  }
 },
 "nbformat": 4,
 "nbformat_minor": 5
}
